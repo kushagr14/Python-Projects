{
 "cells": [
  {
   "cell_type": "markdown",
   "metadata": {},
   "source": [
    "# CUSTOMER MANAGEMENT SYSTEM:-"
   ]
  },
  {
   "cell_type": "code",
   "execution_count": null,
   "metadata": {},
   "outputs": [],
   "source": [
    "#What do we have to perform?\n",
    "1. add a customer\n",
    "2. search for a customer\n",
    "3. delete a customer\n",
    "4. update the information of a particular customer\n",
    "5. print all customers"
   ]
  },
  {
   "cell_type": "code",
   "execution_count": null,
   "metadata": {},
   "outputs": [],
   "source": [
    "name=[]\n",
    "id1=[]\n",
    "phone_no=[]\n",
    "age=[]\n",
    "print(\"1. Add a new customer.\")\n",
    "print(\"2. Search for a particular customer.\")\n",
    "print(\"3. Delete a customer.\")\n",
    "print(\"4. Update the information of a customer.\")\n",
    "print(\"5. Print all the customers.\")\n",
    "while(1):\n",
    "    def add(name,id1,phone_no,age):\n",
    "        name.append(n)\n",
    "        id1.append(id2)\n",
    "        phone_no.append(p)\n",
    "        age.append(a)\n",
    "        print(\"Details of the New customer added are: \")\n",
    "        print(\"Name: \", name)\n",
    "        print(\"ID: \", id1)\n",
    "        print(\"Phone Number: \", phone_no)\n",
    "        print(\"Age: \", age)\n",
    "\n",
    "        "
   ]
  },
  {
   "cell_type": "code",
   "execution_count": null,
   "metadata": {},
   "outputs": [],
   "source": [
    "add(\"kushagr\", \"12\", \"999\", \"19\")"
   ]
  },
  {
   "cell_type": "code",
   "execution_count": null,
   "metadata": {},
   "outputs": [],
   "source": []
  }
 ],
 "metadata": {
  "kernelspec": {
   "display_name": "Python 3",
   "language": "python",
   "name": "python3"
  },
  "language_info": {
   "codemirror_mode": {
    "name": "ipython",
    "version": 3
   },
   "file_extension": ".py",
   "mimetype": "text/x-python",
   "name": "python",
   "nbconvert_exporter": "python",
   "pygments_lexer": "ipython3",
   "version": "3.7.6"
  }
 },
 "nbformat": 4,
 "nbformat_minor": 4
}
